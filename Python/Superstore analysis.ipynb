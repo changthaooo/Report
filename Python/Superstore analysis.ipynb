{
 "cells": [
  {
   "cell_type": "markdown",
   "metadata": {
    "id": "Gf5WQ0ZwjG_3"
   },
   "source": [
    "# 1. Tiền xử lý và chuẩn bị dữ liệu:"
   ]
  },
  {
   "cell_type": "markdown",
   "metadata": {
    "id": "IvbhTxIZjOfC"
   },
   "source": [
    "## 1.1 Tải dữ liệu"
   ]
  },
  {
   "cell_type": "code",
   "execution_count": 1,
   "metadata": {
    "executionInfo": {
     "elapsed": 2603,
     "status": "ok",
     "timestamp": 1746365234987,
     "user": {
      "displayName": "Thao Vy",
      "userId": "05130975999229142157"
     },
     "user_tz": -420
    },
    "id": "OuUqUZtohay1"
   },
   "outputs": [],
   "source": [
    "import pandas as pd\n",
    "import numpy as np"
   ]
  },
  {
   "cell_type": "code",
   "execution_count": 2,
   "metadata": {
    "colab": {
     "base_uri": "https://localhost:8080/",
     "height": 603
    },
    "executionInfo": {
     "elapsed": 18009,
     "status": "ok",
     "timestamp": 1746365311395,
     "user": {
      "displayName": "Thao Vy",
      "userId": "05130975999229142157"
     },
     "user_tz": -420
    },
    "id": "2gGPqdXvhd35",
    "outputId": "e0a6b5e8-07ed-4d82-ced6-d924799410fc"
   },
   "outputs": [
    {
     "data": {
      "text/html": [
       "<div>\n",
       "<style scoped>\n",
       "    .dataframe tbody tr th:only-of-type {\n",
       "        vertical-align: middle;\n",
       "    }\n",
       "\n",
       "    .dataframe tbody tr th {\n",
       "        vertical-align: top;\n",
       "    }\n",
       "\n",
       "    .dataframe thead th {\n",
       "        text-align: right;\n",
       "    }\n",
       "</style>\n",
       "<table border=\"1\" class=\"dataframe\">\n",
       "  <thead>\n",
       "    <tr style=\"text-align: right;\">\n",
       "      <th></th>\n",
       "      <th>Row ID</th>\n",
       "      <th>Order ID</th>\n",
       "      <th>Order Date</th>\n",
       "      <th>Ship Date</th>\n",
       "      <th>Ship Mode</th>\n",
       "      <th>Customer ID</th>\n",
       "      <th>Customer Name</th>\n",
       "      <th>Segment</th>\n",
       "      <th>City</th>\n",
       "      <th>State</th>\n",
       "      <th>...</th>\n",
       "      <th>Product ID</th>\n",
       "      <th>Category</th>\n",
       "      <th>Sub-Category</th>\n",
       "      <th>Product Name</th>\n",
       "      <th>Sales</th>\n",
       "      <th>Quantity</th>\n",
       "      <th>Discount</th>\n",
       "      <th>Profit</th>\n",
       "      <th>Shipping Cost</th>\n",
       "      <th>Order Priority</th>\n",
       "    </tr>\n",
       "  </thead>\n",
       "  <tbody>\n",
       "    <tr>\n",
       "      <th>0</th>\n",
       "      <td>32298</td>\n",
       "      <td>CA-2012-124891</td>\n",
       "      <td>2012-07-31</td>\n",
       "      <td>2012-07-31</td>\n",
       "      <td>Same Day</td>\n",
       "      <td>RH-19495</td>\n",
       "      <td>Rick Hansen</td>\n",
       "      <td>Consumer</td>\n",
       "      <td>New York City</td>\n",
       "      <td>New York</td>\n",
       "      <td>...</td>\n",
       "      <td>TEC-AC-10003033</td>\n",
       "      <td>Technology</td>\n",
       "      <td>Accessories</td>\n",
       "      <td>Plantronics CS510 - Over-the-Head monaural Wir...</td>\n",
       "      <td>2309.650</td>\n",
       "      <td>7</td>\n",
       "      <td>0.0</td>\n",
       "      <td>762.1845</td>\n",
       "      <td>933.57</td>\n",
       "      <td>Critical</td>\n",
       "    </tr>\n",
       "    <tr>\n",
       "      <th>1</th>\n",
       "      <td>26341</td>\n",
       "      <td>IN-2013-77878</td>\n",
       "      <td>2013-02-05</td>\n",
       "      <td>2013-02-07</td>\n",
       "      <td>Second Class</td>\n",
       "      <td>JR-16210</td>\n",
       "      <td>Justin Ritter</td>\n",
       "      <td>Corporate</td>\n",
       "      <td>Wollongong</td>\n",
       "      <td>New South Wales</td>\n",
       "      <td>...</td>\n",
       "      <td>FUR-CH-10003950</td>\n",
       "      <td>Furniture</td>\n",
       "      <td>Chairs</td>\n",
       "      <td>Novimex Executive Leather Armchair, Black</td>\n",
       "      <td>3709.395</td>\n",
       "      <td>9</td>\n",
       "      <td>0.1</td>\n",
       "      <td>-288.7650</td>\n",
       "      <td>923.63</td>\n",
       "      <td>Critical</td>\n",
       "    </tr>\n",
       "    <tr>\n",
       "      <th>2</th>\n",
       "      <td>25330</td>\n",
       "      <td>IN-2013-71249</td>\n",
       "      <td>2013-10-17</td>\n",
       "      <td>2013-10-18</td>\n",
       "      <td>First Class</td>\n",
       "      <td>CR-12730</td>\n",
       "      <td>Craig Reiter</td>\n",
       "      <td>Consumer</td>\n",
       "      <td>Brisbane</td>\n",
       "      <td>Queensland</td>\n",
       "      <td>...</td>\n",
       "      <td>TEC-PH-10004664</td>\n",
       "      <td>Technology</td>\n",
       "      <td>Phones</td>\n",
       "      <td>Nokia Smart Phone, with Caller ID</td>\n",
       "      <td>5175.171</td>\n",
       "      <td>9</td>\n",
       "      <td>0.1</td>\n",
       "      <td>919.9710</td>\n",
       "      <td>915.49</td>\n",
       "      <td>Medium</td>\n",
       "    </tr>\n",
       "    <tr>\n",
       "      <th>3</th>\n",
       "      <td>13524</td>\n",
       "      <td>ES-2013-1579342</td>\n",
       "      <td>2013-01-28</td>\n",
       "      <td>2013-01-30</td>\n",
       "      <td>First Class</td>\n",
       "      <td>KM-16375</td>\n",
       "      <td>Katherine Murray</td>\n",
       "      <td>Home Office</td>\n",
       "      <td>Berlin</td>\n",
       "      <td>Berlin</td>\n",
       "      <td>...</td>\n",
       "      <td>TEC-PH-10004583</td>\n",
       "      <td>Technology</td>\n",
       "      <td>Phones</td>\n",
       "      <td>Motorola Smart Phone, Cordless</td>\n",
       "      <td>2892.510</td>\n",
       "      <td>5</td>\n",
       "      <td>0.1</td>\n",
       "      <td>-96.5400</td>\n",
       "      <td>910.16</td>\n",
       "      <td>Medium</td>\n",
       "    </tr>\n",
       "    <tr>\n",
       "      <th>4</th>\n",
       "      <td>47221</td>\n",
       "      <td>SG-2013-4320</td>\n",
       "      <td>2013-11-05</td>\n",
       "      <td>2013-11-06</td>\n",
       "      <td>Same Day</td>\n",
       "      <td>RH-9495</td>\n",
       "      <td>Rick Hansen</td>\n",
       "      <td>Consumer</td>\n",
       "      <td>Dakar</td>\n",
       "      <td>Dakar</td>\n",
       "      <td>...</td>\n",
       "      <td>TEC-SHA-10000501</td>\n",
       "      <td>Technology</td>\n",
       "      <td>Copiers</td>\n",
       "      <td>Sharp Wireless Fax, High-Speed</td>\n",
       "      <td>2832.960</td>\n",
       "      <td>8</td>\n",
       "      <td>0.0</td>\n",
       "      <td>311.5200</td>\n",
       "      <td>903.04</td>\n",
       "      <td>Critical</td>\n",
       "    </tr>\n",
       "  </tbody>\n",
       "</table>\n",
       "<p>5 rows × 24 columns</p>\n",
       "</div>"
      ],
      "text/plain": [
       "   Row ID         Order ID Order Date  Ship Date     Ship Mode Customer ID  \\\n",
       "0   32298   CA-2012-124891 2012-07-31 2012-07-31      Same Day    RH-19495   \n",
       "1   26341    IN-2013-77878 2013-02-05 2013-02-07  Second Class    JR-16210   \n",
       "2   25330    IN-2013-71249 2013-10-17 2013-10-18   First Class    CR-12730   \n",
       "3   13524  ES-2013-1579342 2013-01-28 2013-01-30   First Class    KM-16375   \n",
       "4   47221     SG-2013-4320 2013-11-05 2013-11-06      Same Day     RH-9495   \n",
       "\n",
       "      Customer Name      Segment           City            State  ...  \\\n",
       "0       Rick Hansen     Consumer  New York City         New York  ...   \n",
       "1     Justin Ritter    Corporate     Wollongong  New South Wales  ...   \n",
       "2      Craig Reiter     Consumer       Brisbane       Queensland  ...   \n",
       "3  Katherine Murray  Home Office         Berlin           Berlin  ...   \n",
       "4       Rick Hansen     Consumer          Dakar            Dakar  ...   \n",
       "\n",
       "         Product ID    Category Sub-Category  \\\n",
       "0   TEC-AC-10003033  Technology  Accessories   \n",
       "1   FUR-CH-10003950   Furniture       Chairs   \n",
       "2   TEC-PH-10004664  Technology       Phones   \n",
       "3   TEC-PH-10004583  Technology       Phones   \n",
       "4  TEC-SHA-10000501  Technology      Copiers   \n",
       "\n",
       "                                        Product Name     Sales Quantity  \\\n",
       "0  Plantronics CS510 - Over-the-Head monaural Wir...  2309.650        7   \n",
       "1          Novimex Executive Leather Armchair, Black  3709.395        9   \n",
       "2                  Nokia Smart Phone, with Caller ID  5175.171        9   \n",
       "3                     Motorola Smart Phone, Cordless  2892.510        5   \n",
       "4                     Sharp Wireless Fax, High-Speed  2832.960        8   \n",
       "\n",
       "  Discount    Profit  Shipping Cost  Order Priority  \n",
       "0      0.0  762.1845         933.57        Critical  \n",
       "1      0.1 -288.7650         923.63        Critical  \n",
       "2      0.1  919.9710         915.49          Medium  \n",
       "3      0.1  -96.5400         910.16          Medium  \n",
       "4      0.0  311.5200         903.04        Critical  \n",
       "\n",
       "[5 rows x 24 columns]"
      ]
     },
     "execution_count": 2,
     "metadata": {},
     "output_type": "execute_result"
    }
   ],
   "source": [
    "df = pd.read_excel(r\"D:\\Project\\Python\\Global Superstore.xls\")\n",
    "df.head()"
   ]
  },
  {
   "cell_type": "code",
   "execution_count": 5,
   "metadata": {
    "colab": {
     "base_uri": "https://localhost:8080/"
    },
    "executionInfo": {
     "elapsed": 69,
     "status": "ok",
     "timestamp": 1746365324908,
     "user": {
      "displayName": "Thao Vy",
      "userId": "05130975999229142157"
     },
     "user_tz": -420
    },
    "id": "drPqphNdhmmv",
    "outputId": "7a9e47ae-de55-4ef2-db11-7fe78eb7add6"
   },
   "outputs": [
    {
     "name": "stdout",
     "output_type": "stream",
     "text": [
      "<class 'pandas.core.frame.DataFrame'>\n",
      "RangeIndex: 51290 entries, 0 to 51289\n",
      "Data columns (total 24 columns):\n",
      " #   Column          Non-Null Count  Dtype         \n",
      "---  ------          --------------  -----         \n",
      " 0   Row ID          51290 non-null  int64         \n",
      " 1   Order ID        51290 non-null  object        \n",
      " 2   Order Date      51290 non-null  datetime64[ns]\n",
      " 3   Ship Date       51290 non-null  datetime64[ns]\n",
      " 4   Ship Mode       51290 non-null  object        \n",
      " 5   Customer ID     51290 non-null  object        \n",
      " 6   Customer Name   51290 non-null  object        \n",
      " 7   Segment         51290 non-null  object        \n",
      " 8   City            51290 non-null  object        \n",
      " 9   State           51290 non-null  object        \n",
      " 10  Country         51290 non-null  object        \n",
      " 11  Postal Code     9994 non-null   float64       \n",
      " 12  Market          51290 non-null  object        \n",
      " 13  Region          51290 non-null  object        \n",
      " 14  Product ID      51290 non-null  object        \n",
      " 15  Category        51290 non-null  object        \n",
      " 16  Sub-Category    51290 non-null  object        \n",
      " 17  Product Name    51290 non-null  object        \n",
      " 18  Sales           51290 non-null  float64       \n",
      " 19  Quantity        51290 non-null  int64         \n",
      " 20  Discount        51290 non-null  float64       \n",
      " 21  Profit          51290 non-null  float64       \n",
      " 22  Shipping Cost   51290 non-null  float64       \n",
      " 23  Order Priority  51290 non-null  object        \n",
      "dtypes: datetime64[ns](2), float64(5), int64(2), object(15)\n",
      "memory usage: 9.4+ MB\n"
     ]
    }
   ],
   "source": [
    "# Thông tin cơ bản về bộ dữ liệu\n",
    "df.info()"
   ]
  },
  {
   "cell_type": "markdown",
   "metadata": {
    "id": "QIhwEnoijQYG"
   },
   "source": [
    "## 1.2 Lọc và trích xuất dữ liệu theo quốc gia được phân công."
   ]
  },
  {
   "cell_type": "code",
   "execution_count": 7,
   "metadata": {
    "executionInfo": {
     "elapsed": 53,
     "status": "ok",
     "timestamp": 1746365328808,
     "user": {
      "displayName": "Thao Vy",
      "userId": "05130975999229142157"
     },
     "user_tz": -420
    },
    "id": "OFmfnE30jhKb"
   },
   "outputs": [],
   "source": [
    "# Thông tin về dữ liệu của quốc gia\n",
    "def info(a):\n",
    "    \"\"\"Thông tin về dữ liệu quốc gia được lọc \"\"\"\n",
    "\n",
    "    # Tổng số bản ghi\n",
    "    total_records = len(df)\n",
    "\n",
    "    # Số bản ghi của quốc gia\n",
    "    country_records = len(a)\n",
    "    # Tỷ lệ dữ liệu\n",
    "    country_percentage = (country_records / total_records) * 100\n",
    "\n",
    "    print(info.__doc__)\n",
    "    print(f\"Tổng số bản ghi: {total_records}\")\n",
    "    print(f\"Số bản ghi của quốc gia: {country_records}\")\n",
    "    print(f\"Tỷ lệ dữ liệu: {country_percentage:.2f}%\")\n",
    "    return"
   ]
  },
  {
   "cell_type": "code",
   "execution_count": 9,
   "metadata": {
    "executionInfo": {
     "elapsed": 20,
     "status": "ok",
     "timestamp": 1746365330546,
     "user": {
      "displayName": "Thao Vy",
      "userId": "05130975999229142157"
     },
     "user_tz": -420
    },
    "id": "sNBLNt52NimE"
   },
   "outputs": [],
   "source": [
    "# Lọc dữ liệu theo quốc gia Italy\n",
    "ita = df[df['Country'] == 'Italy']"
   ]
  },
  {
   "cell_type": "code",
   "execution_count": 11,
   "metadata": {
    "colab": {
     "base_uri": "https://localhost:8080/"
    },
    "executionInfo": {
     "elapsed": 11,
     "status": "ok",
     "timestamp": 1746365333900,
     "user": {
      "displayName": "Thao Vy",
      "userId": "05130975999229142157"
     },
     "user_tz": -420
    },
    "id": "q3BZIPGINBHY",
    "outputId": "5217397d-8963-4aca-b413-de89bb804320"
   },
   "outputs": [
    {
     "name": "stdout",
     "output_type": "stream",
     "text": [
      "Thông tin về dữ liệu quốc gia được lọc \n",
      "Tổng số bản ghi: 51290\n",
      "Số bản ghi của quốc gia: 1108\n",
      "Tỷ lệ dữ liệu: 2.16%\n"
     ]
    }
   ],
   "source": [
    "fiter_ita = info(ita)"
   ]
  },
  {
   "cell_type": "markdown",
   "metadata": {
    "id": "9vOIGVkGkH8_"
   },
   "source": [
    "## 1.3 Xác định và xử lý các giá trị trùng lắp, thiếu, ngoại lai trong phạm vi dữ liệu đã được lọc."
   ]
  },
  {
   "cell_type": "code",
   "execution_count": 13,
   "metadata": {
    "executionInfo": {
     "elapsed": 4,
     "status": "ok",
     "timestamp": 1746365335633,
     "user": {
      "displayName": "Thao Vy",
      "userId": "05130975999229142157"
     },
     "user_tz": -420
    },
    "id": "BU8Q9ymvkBYX"
   },
   "outputs": [],
   "source": [
    "def check(df):\n",
    "    \"\"\"Kiểm tra dữ liệu\"\"\"\n",
    "    duplicate_value =  df.duplicated().sum()\n",
    "    missing_values = df.isnull().sum()\n",
    "\n",
    "    print(check.__doc__)\n",
    "    print(\"Các bản ghi trùng lắp:\", duplicate_value)\n",
    "    print(\"Giá trị thiếu trong các cột:\")\n",
    "    print(missing_values)\n",
    "    return"
   ]
  },
  {
   "cell_type": "code",
   "execution_count": 15,
   "metadata": {
    "colab": {
     "base_uri": "https://localhost:8080/"
    },
    "executionInfo": {
     "elapsed": 5,
     "status": "ok",
     "timestamp": 1746365337061,
     "user": {
      "displayName": "Thao Vy",
      "userId": "05130975999229142157"
     },
     "user_tz": -420
    },
    "id": "II1puprvkPSe",
    "outputId": "6f3e448e-76d1-4267-918e-8a91c85c627a"
   },
   "outputs": [
    {
     "name": "stdout",
     "output_type": "stream",
     "text": [
      "Kiểm tra dữ liệu\n",
      "Các bản ghi trùng lắp: 0\n",
      "Giá trị thiếu trong các cột:\n",
      "Row ID               0\n",
      "Order ID             0\n",
      "Order Date           0\n",
      "Ship Date            0\n",
      "Ship Mode            0\n",
      "Customer ID          0\n",
      "Customer Name        0\n",
      "Segment              0\n",
      "City                 0\n",
      "State                0\n",
      "Country              0\n",
      "Postal Code       1108\n",
      "Market               0\n",
      "Region               0\n",
      "Product ID           0\n",
      "Category             0\n",
      "Sub-Category         0\n",
      "Product Name         0\n",
      "Sales                0\n",
      "Quantity             0\n",
      "Discount             0\n",
      "Profit               0\n",
      "Shipping Cost        0\n",
      "Order Priority       0\n",
      "dtype: int64\n"
     ]
    }
   ],
   "source": [
    "check(ita)"
   ]
  },
  {
   "cell_type": "code",
   "execution_count": 17,
   "metadata": {
    "colab": {
     "base_uri": "https://localhost:8080/"
    },
    "executionInfo": {
     "elapsed": 11,
     "status": "ok",
     "timestamp": 1746365339231,
     "user": {
      "displayName": "Thao Vy",
      "userId": "05130975999229142157"
     },
     "user_tz": -420
    },
    "id": "ShcxyzEZkc9r",
    "outputId": "43619eac-148e-48d6-fba8-2ec148cdc085"
   },
   "outputs": [
    {
     "name": "stderr",
     "output_type": "stream",
     "text": [
      "C:\\Users\\nguye\\AppData\\Local\\Temp\\ipykernel_23212\\1282361121.py:2: SettingWithCopyWarning: \n",
      "A value is trying to be set on a copy of a slice from a DataFrame\n",
      "\n",
      "See the caveats in the documentation: https://pandas.pydata.org/pandas-docs/stable/user_guide/indexing.html#returning-a-view-versus-a-copy\n",
      "  ita.drop(columns=['Postal Code'], inplace = True)\n"
     ]
    }
   ],
   "source": [
    "# Xử lý dữ liệu thiếu\n",
    "ita.drop(columns=['Postal Code'], inplace = True)\n",
    "# Reset index\n",
    "ita.reset_index(drop = True, inplace = True)"
   ]
  },
  {
   "cell_type": "code",
   "execution_count": 19,
   "metadata": {
    "colab": {
     "base_uri": "https://localhost:8080/",
     "height": 464
    },
    "executionInfo": {
     "elapsed": 126,
     "status": "ok",
     "timestamp": 1746365342229,
     "user": {
      "displayName": "Thao Vy",
      "userId": "05130975999229142157"
     },
     "user_tz": -420
    },
    "id": "icsC4qdrkxre",
    "outputId": "92aec923-0dad-42a1-a81e-9edce7bdcbb2"
   },
   "outputs": [
    {
     "data": {
      "text/html": [
       "<div>\n",
       "<style scoped>\n",
       "    .dataframe tbody tr th:only-of-type {\n",
       "        vertical-align: middle;\n",
       "    }\n",
       "\n",
       "    .dataframe tbody tr th {\n",
       "        vertical-align: top;\n",
       "    }\n",
       "\n",
       "    .dataframe thead th {\n",
       "        text-align: right;\n",
       "    }\n",
       "</style>\n",
       "<table border=\"1\" class=\"dataframe\">\n",
       "  <thead>\n",
       "    <tr style=\"text-align: right;\">\n",
       "      <th></th>\n",
       "      <th>Row ID</th>\n",
       "      <th>Order ID</th>\n",
       "      <th>Order Date</th>\n",
       "      <th>Ship Date</th>\n",
       "      <th>Ship Mode</th>\n",
       "      <th>Customer ID</th>\n",
       "      <th>Customer Name</th>\n",
       "      <th>Segment</th>\n",
       "      <th>City</th>\n",
       "      <th>State</th>\n",
       "      <th>...</th>\n",
       "      <th>Product ID</th>\n",
       "      <th>Category</th>\n",
       "      <th>Sub-Category</th>\n",
       "      <th>Product Name</th>\n",
       "      <th>Sales</th>\n",
       "      <th>Quantity</th>\n",
       "      <th>Discount</th>\n",
       "      <th>Profit</th>\n",
       "      <th>Shipping Cost</th>\n",
       "      <th>Order Priority</th>\n",
       "    </tr>\n",
       "  </thead>\n",
       "  <tbody>\n",
       "    <tr>\n",
       "      <th>0</th>\n",
       "      <td>12069</td>\n",
       "      <td>ES-2014-1651774</td>\n",
       "      <td>2014-09-08</td>\n",
       "      <td>2014-09-14</td>\n",
       "      <td>Standard Class</td>\n",
       "      <td>PJ-18835</td>\n",
       "      <td>Patrick Jones</td>\n",
       "      <td>Corporate</td>\n",
       "      <td>Prato</td>\n",
       "      <td>Tuscany</td>\n",
       "      <td>...</td>\n",
       "      <td>OFF-AP-10004512</td>\n",
       "      <td>Office Supplies</td>\n",
       "      <td>Appliances</td>\n",
       "      <td>Hoover Stove, Red</td>\n",
       "      <td>7958.58</td>\n",
       "      <td>14</td>\n",
       "      <td>0.0</td>\n",
       "      <td>3979.08</td>\n",
       "      <td>778.32</td>\n",
       "      <td>Low</td>\n",
       "    </tr>\n",
       "    <tr>\n",
       "      <th>1</th>\n",
       "      <td>17765</td>\n",
       "      <td>IT-2013-1350483</td>\n",
       "      <td>2013-09-05</td>\n",
       "      <td>2013-09-07</td>\n",
       "      <td>Second Class</td>\n",
       "      <td>SB-20290</td>\n",
       "      <td>Sean Braxton</td>\n",
       "      <td>Corporate</td>\n",
       "      <td>Treviso</td>\n",
       "      <td>Veneto</td>\n",
       "      <td>...</td>\n",
       "      <td>TEC-CO-10003800</td>\n",
       "      <td>Technology</td>\n",
       "      <td>Copiers</td>\n",
       "      <td>Hewlett Wireless Fax, Color</td>\n",
       "      <td>2671.41</td>\n",
       "      <td>7</td>\n",
       "      <td>0.0</td>\n",
       "      <td>534.24</td>\n",
       "      <td>483.04</td>\n",
       "      <td>High</td>\n",
       "    </tr>\n",
       "    <tr>\n",
       "      <th>2</th>\n",
       "      <td>15132</td>\n",
       "      <td>ES-2014-5345830</td>\n",
       "      <td>2014-01-14</td>\n",
       "      <td>2014-01-16</td>\n",
       "      <td>First Class</td>\n",
       "      <td>MG-17695</td>\n",
       "      <td>Maureen Gnade</td>\n",
       "      <td>Consumer</td>\n",
       "      <td>Turin</td>\n",
       "      <td>Piedmont</td>\n",
       "      <td>...</td>\n",
       "      <td>TEC-CO-10002663</td>\n",
       "      <td>Technology</td>\n",
       "      <td>Copiers</td>\n",
       "      <td>Sharp Wireless Fax, Laser</td>\n",
       "      <td>2847.36</td>\n",
       "      <td>8</td>\n",
       "      <td>0.0</td>\n",
       "      <td>711.84</td>\n",
       "      <td>350.68</td>\n",
       "      <td>High</td>\n",
       "    </tr>\n",
       "    <tr>\n",
       "      <th>3</th>\n",
       "      <td>12983</td>\n",
       "      <td>ES-2012-5967582</td>\n",
       "      <td>2012-05-28</td>\n",
       "      <td>2012-05-31</td>\n",
       "      <td>First Class</td>\n",
       "      <td>CK-12205</td>\n",
       "      <td>Chloris Kastensmidt</td>\n",
       "      <td>Consumer</td>\n",
       "      <td>Barletta</td>\n",
       "      <td>Apulia</td>\n",
       "      <td>...</td>\n",
       "      <td>TEC-CO-10001413</td>\n",
       "      <td>Technology</td>\n",
       "      <td>Copiers</td>\n",
       "      <td>Hewlett Wireless Fax, High-Speed</td>\n",
       "      <td>1513.56</td>\n",
       "      <td>4</td>\n",
       "      <td>0.0</td>\n",
       "      <td>741.60</td>\n",
       "      <td>325.45</td>\n",
       "      <td>Critical</td>\n",
       "    </tr>\n",
       "    <tr>\n",
       "      <th>4</th>\n",
       "      <td>14311</td>\n",
       "      <td>ES-2013-1525878</td>\n",
       "      <td>2013-11-04</td>\n",
       "      <td>2013-11-06</td>\n",
       "      <td>Second Class</td>\n",
       "      <td>LT-16765</td>\n",
       "      <td>Larry Tron</td>\n",
       "      <td>Consumer</td>\n",
       "      <td>Rome</td>\n",
       "      <td>Lazio</td>\n",
       "      <td>...</td>\n",
       "      <td>OFF-AP-10002321</td>\n",
       "      <td>Office Supplies</td>\n",
       "      <td>Appliances</td>\n",
       "      <td>Hoover Microwave, Silver</td>\n",
       "      <td>1856.34</td>\n",
       "      <td>6</td>\n",
       "      <td>0.0</td>\n",
       "      <td>909.54</td>\n",
       "      <td>305.25</td>\n",
       "      <td>Critical</td>\n",
       "    </tr>\n",
       "  </tbody>\n",
       "</table>\n",
       "<p>5 rows × 23 columns</p>\n",
       "</div>"
      ],
      "text/plain": [
       "   Row ID         Order ID Order Date  Ship Date       Ship Mode Customer ID  \\\n",
       "0   12069  ES-2014-1651774 2014-09-08 2014-09-14  Standard Class    PJ-18835   \n",
       "1   17765  IT-2013-1350483 2013-09-05 2013-09-07    Second Class    SB-20290   \n",
       "2   15132  ES-2014-5345830 2014-01-14 2014-01-16     First Class    MG-17695   \n",
       "3   12983  ES-2012-5967582 2012-05-28 2012-05-31     First Class    CK-12205   \n",
       "4   14311  ES-2013-1525878 2013-11-04 2013-11-06    Second Class    LT-16765   \n",
       "\n",
       "         Customer Name    Segment      City     State  ...       Product ID  \\\n",
       "0        Patrick Jones  Corporate     Prato   Tuscany  ...  OFF-AP-10004512   \n",
       "1         Sean Braxton  Corporate   Treviso    Veneto  ...  TEC-CO-10003800   \n",
       "2        Maureen Gnade   Consumer     Turin  Piedmont  ...  TEC-CO-10002663   \n",
       "3  Chloris Kastensmidt   Consumer  Barletta    Apulia  ...  TEC-CO-10001413   \n",
       "4           Larry Tron   Consumer      Rome     Lazio  ...  OFF-AP-10002321   \n",
       "\n",
       "          Category Sub-Category                      Product Name    Sales  \\\n",
       "0  Office Supplies   Appliances                 Hoover Stove, Red  7958.58   \n",
       "1       Technology      Copiers       Hewlett Wireless Fax, Color  2671.41   \n",
       "2       Technology      Copiers         Sharp Wireless Fax, Laser  2847.36   \n",
       "3       Technology      Copiers  Hewlett Wireless Fax, High-Speed  1513.56   \n",
       "4  Office Supplies   Appliances          Hoover Microwave, Silver  1856.34   \n",
       "\n",
       "  Quantity Discount   Profit  Shipping Cost  Order Priority  \n",
       "0       14      0.0  3979.08         778.32             Low  \n",
       "1        7      0.0   534.24         483.04            High  \n",
       "2        8      0.0   711.84         350.68            High  \n",
       "3        4      0.0   741.60         325.45        Critical  \n",
       "4        6      0.0   909.54         305.25        Critical  \n",
       "\n",
       "[5 rows x 23 columns]"
      ]
     },
     "execution_count": 19,
     "metadata": {},
     "output_type": "execute_result"
    }
   ],
   "source": [
    "ita.head()"
   ]
  },
  {
   "cell_type": "code",
   "execution_count": 21,
   "metadata": {
    "colab": {
     "base_uri": "https://localhost:8080/"
    },
    "executionInfo": {
     "elapsed": 13,
     "status": "ok",
     "timestamp": 1746365345250,
     "user": {
      "displayName": "Thao Vy",
      "userId": "05130975999229142157"
     },
     "user_tz": -420
    },
    "id": "IuvSgZ9OlDj_",
    "outputId": "be8ff34a-fce0-418f-ff13-b336a148138c"
   },
   "outputs": [
    {
     "name": "stdout",
     "output_type": "stream",
     "text": [
      "<class 'pandas.core.frame.DataFrame'>\n",
      "RangeIndex: 1108 entries, 0 to 1107\n",
      "Data columns (total 23 columns):\n",
      " #   Column          Non-Null Count  Dtype         \n",
      "---  ------          --------------  -----         \n",
      " 0   Row ID          1108 non-null   int64         \n",
      " 1   Order ID        1108 non-null   object        \n",
      " 2   Order Date      1108 non-null   datetime64[ns]\n",
      " 3   Ship Date       1108 non-null   datetime64[ns]\n",
      " 4   Ship Mode       1108 non-null   object        \n",
      " 5   Customer ID     1108 non-null   object        \n",
      " 6   Customer Name   1108 non-null   object        \n",
      " 7   Segment         1108 non-null   object        \n",
      " 8   City            1108 non-null   object        \n",
      " 9   State           1108 non-null   object        \n",
      " 10  Country         1108 non-null   object        \n",
      " 11  Market          1108 non-null   object        \n",
      " 12  Region          1108 non-null   object        \n",
      " 13  Product ID      1108 non-null   object        \n",
      " 14  Category        1108 non-null   object        \n",
      " 15  Sub-Category    1108 non-null   object        \n",
      " 16  Product Name    1108 non-null   object        \n",
      " 17  Sales           1108 non-null   float64       \n",
      " 18  Quantity        1108 non-null   int64         \n",
      " 19  Discount        1108 non-null   float64       \n",
      " 20  Profit          1108 non-null   float64       \n",
      " 21  Shipping Cost   1108 non-null   float64       \n",
      " 22  Order Priority  1108 non-null   object        \n",
      "dtypes: datetime64[ns](2), float64(4), int64(2), object(15)\n",
      "memory usage: 199.2+ KB\n"
     ]
    }
   ],
   "source": [
    "# thông tin dữ liệu sau khi đã xử lý\n",
    "ita.info()"
   ]
  },
  {
   "cell_type": "markdown",
   "metadata": {
    "id": "7F_HakvalWjU"
   },
   "source": [
    "## 1.4 Chuẩn hoá giá trị chưa phù hợp thành định dạng phù hợp (ngày tháng, tiền tệ...)"
   ]
  },
  {
   "cell_type": "code",
   "execution_count": 23,
   "metadata": {
    "executionInfo": {
     "elapsed": 4,
     "status": "ok",
     "timestamp": 1746365347423,
     "user": {
      "displayName": "Thao Vy",
      "userId": "05130975999229142157"
     },
     "user_tz": -420
    },
    "id": "7kwJcFeclPxv"
   },
   "outputs": [],
   "source": [
    "def create_features(df):\n",
    "    df['Processing Time'] = (df['Ship Date'] - df['Order Date']).dt.days\n",
    "    df['Order Year'] = df['Order Date'].dt.year\n",
    "    df['Order Month'] = df['Order Date'].dt.month\n",
    "    df['Order Quarter'] = df['Order Date'].dt.quarter\n",
    "    return df"
   ]
  },
  {
   "cell_type": "code",
   "execution_count": 25,
   "metadata": {
    "colab": {
     "base_uri": "https://localhost:8080/"
    },
    "executionInfo": {
     "elapsed": 15,
     "status": "ok",
     "timestamp": 1746365349254,
     "user": {
      "displayName": "Thao Vy",
      "userId": "05130975999229142157"
     },
     "user_tz": -420
    },
    "id": "4Lhmyyvilf6y",
    "outputId": "ba63dd97-f13a-4c84-e98e-88d40aa8b962"
   },
   "outputs": [],
   "source": [
    "ita_df = create_features(ita.copy())"
   ]
  },
  {
   "cell_type": "code",
   "execution_count": 27,
   "metadata": {
    "colab": {
     "base_uri": "https://localhost:8080/",
     "height": 791
    },
    "executionInfo": {
     "elapsed": 102,
     "status": "ok",
     "timestamp": 1746365351413,
     "user": {
      "displayName": "Thao Vy",
      "userId": "05130975999229142157"
     },
     "user_tz": -420
    },
    "id": "lsO0-D6ilgB3",
    "outputId": "6a0a8deb-8497-41bd-fc93-6907d77b60ca"
   },
   "outputs": [
    {
     "data": {
      "text/html": [
       "<div>\n",
       "<style scoped>\n",
       "    .dataframe tbody tr th:only-of-type {\n",
       "        vertical-align: middle;\n",
       "    }\n",
       "\n",
       "    .dataframe tbody tr th {\n",
       "        vertical-align: top;\n",
       "    }\n",
       "\n",
       "    .dataframe thead th {\n",
       "        text-align: right;\n",
       "    }\n",
       "</style>\n",
       "<table border=\"1\" class=\"dataframe\">\n",
       "  <thead>\n",
       "    <tr style=\"text-align: right;\">\n",
       "      <th></th>\n",
       "      <th>Row ID</th>\n",
       "      <th>Order ID</th>\n",
       "      <th>Order Date</th>\n",
       "      <th>Ship Date</th>\n",
       "      <th>Ship Mode</th>\n",
       "      <th>Customer ID</th>\n",
       "      <th>Customer Name</th>\n",
       "      <th>Segment</th>\n",
       "      <th>City</th>\n",
       "      <th>State</th>\n",
       "      <th>...</th>\n",
       "      <th>Sales</th>\n",
       "      <th>Quantity</th>\n",
       "      <th>Discount</th>\n",
       "      <th>Profit</th>\n",
       "      <th>Shipping Cost</th>\n",
       "      <th>Order Priority</th>\n",
       "      <th>Processing Time</th>\n",
       "      <th>Order Year</th>\n",
       "      <th>Order Month</th>\n",
       "      <th>Order Quarter</th>\n",
       "    </tr>\n",
       "  </thead>\n",
       "  <tbody>\n",
       "    <tr>\n",
       "      <th>0</th>\n",
       "      <td>12069</td>\n",
       "      <td>ES-2014-1651774</td>\n",
       "      <td>2014-09-08</td>\n",
       "      <td>2014-09-14</td>\n",
       "      <td>Standard Class</td>\n",
       "      <td>PJ-18835</td>\n",
       "      <td>Patrick Jones</td>\n",
       "      <td>Corporate</td>\n",
       "      <td>Prato</td>\n",
       "      <td>Tuscany</td>\n",
       "      <td>...</td>\n",
       "      <td>7958.58</td>\n",
       "      <td>14</td>\n",
       "      <td>0.0</td>\n",
       "      <td>3979.08</td>\n",
       "      <td>778.32</td>\n",
       "      <td>Low</td>\n",
       "      <td>6</td>\n",
       "      <td>2014</td>\n",
       "      <td>9</td>\n",
       "      <td>3</td>\n",
       "    </tr>\n",
       "    <tr>\n",
       "      <th>1</th>\n",
       "      <td>17765</td>\n",
       "      <td>IT-2013-1350483</td>\n",
       "      <td>2013-09-05</td>\n",
       "      <td>2013-09-07</td>\n",
       "      <td>Second Class</td>\n",
       "      <td>SB-20290</td>\n",
       "      <td>Sean Braxton</td>\n",
       "      <td>Corporate</td>\n",
       "      <td>Treviso</td>\n",
       "      <td>Veneto</td>\n",
       "      <td>...</td>\n",
       "      <td>2671.41</td>\n",
       "      <td>7</td>\n",
       "      <td>0.0</td>\n",
       "      <td>534.24</td>\n",
       "      <td>483.04</td>\n",
       "      <td>High</td>\n",
       "      <td>2</td>\n",
       "      <td>2013</td>\n",
       "      <td>9</td>\n",
       "      <td>3</td>\n",
       "    </tr>\n",
       "    <tr>\n",
       "      <th>2</th>\n",
       "      <td>15132</td>\n",
       "      <td>ES-2014-5345830</td>\n",
       "      <td>2014-01-14</td>\n",
       "      <td>2014-01-16</td>\n",
       "      <td>First Class</td>\n",
       "      <td>MG-17695</td>\n",
       "      <td>Maureen Gnade</td>\n",
       "      <td>Consumer</td>\n",
       "      <td>Turin</td>\n",
       "      <td>Piedmont</td>\n",
       "      <td>...</td>\n",
       "      <td>2847.36</td>\n",
       "      <td>8</td>\n",
       "      <td>0.0</td>\n",
       "      <td>711.84</td>\n",
       "      <td>350.68</td>\n",
       "      <td>High</td>\n",
       "      <td>2</td>\n",
       "      <td>2014</td>\n",
       "      <td>1</td>\n",
       "      <td>1</td>\n",
       "    </tr>\n",
       "    <tr>\n",
       "      <th>3</th>\n",
       "      <td>12983</td>\n",
       "      <td>ES-2012-5967582</td>\n",
       "      <td>2012-05-28</td>\n",
       "      <td>2012-05-31</td>\n",
       "      <td>First Class</td>\n",
       "      <td>CK-12205</td>\n",
       "      <td>Chloris Kastensmidt</td>\n",
       "      <td>Consumer</td>\n",
       "      <td>Barletta</td>\n",
       "      <td>Apulia</td>\n",
       "      <td>...</td>\n",
       "      <td>1513.56</td>\n",
       "      <td>4</td>\n",
       "      <td>0.0</td>\n",
       "      <td>741.60</td>\n",
       "      <td>325.45</td>\n",
       "      <td>Critical</td>\n",
       "      <td>3</td>\n",
       "      <td>2012</td>\n",
       "      <td>5</td>\n",
       "      <td>2</td>\n",
       "    </tr>\n",
       "    <tr>\n",
       "      <th>4</th>\n",
       "      <td>14311</td>\n",
       "      <td>ES-2013-1525878</td>\n",
       "      <td>2013-11-04</td>\n",
       "      <td>2013-11-06</td>\n",
       "      <td>Second Class</td>\n",
       "      <td>LT-16765</td>\n",
       "      <td>Larry Tron</td>\n",
       "      <td>Consumer</td>\n",
       "      <td>Rome</td>\n",
       "      <td>Lazio</td>\n",
       "      <td>...</td>\n",
       "      <td>1856.34</td>\n",
       "      <td>6</td>\n",
       "      <td>0.0</td>\n",
       "      <td>909.54</td>\n",
       "      <td>305.25</td>\n",
       "      <td>Critical</td>\n",
       "      <td>2</td>\n",
       "      <td>2013</td>\n",
       "      <td>11</td>\n",
       "      <td>4</td>\n",
       "    </tr>\n",
       "    <tr>\n",
       "      <th>...</th>\n",
       "      <td>...</td>\n",
       "      <td>...</td>\n",
       "      <td>...</td>\n",
       "      <td>...</td>\n",
       "      <td>...</td>\n",
       "      <td>...</td>\n",
       "      <td>...</td>\n",
       "      <td>...</td>\n",
       "      <td>...</td>\n",
       "      <td>...</td>\n",
       "      <td>...</td>\n",
       "      <td>...</td>\n",
       "      <td>...</td>\n",
       "      <td>...</td>\n",
       "      <td>...</td>\n",
       "      <td>...</td>\n",
       "      <td>...</td>\n",
       "      <td>...</td>\n",
       "      <td>...</td>\n",
       "      <td>...</td>\n",
       "      <td>...</td>\n",
       "    </tr>\n",
       "    <tr>\n",
       "      <th>1103</th>\n",
       "      <td>16913</td>\n",
       "      <td>ES-2013-4686025</td>\n",
       "      <td>2013-06-19</td>\n",
       "      <td>2013-06-21</td>\n",
       "      <td>First Class</td>\n",
       "      <td>SB-20185</td>\n",
       "      <td>Sarah Brown</td>\n",
       "      <td>Consumer</td>\n",
       "      <td>Tivoli</td>\n",
       "      <td>Lazio</td>\n",
       "      <td>...</td>\n",
       "      <td>24.75</td>\n",
       "      <td>3</td>\n",
       "      <td>0.0</td>\n",
       "      <td>10.62</td>\n",
       "      <td>0.53</td>\n",
       "      <td>Critical</td>\n",
       "      <td>2</td>\n",
       "      <td>2013</td>\n",
       "      <td>6</td>\n",
       "      <td>2</td>\n",
       "    </tr>\n",
       "    <tr>\n",
       "      <th>1104</th>\n",
       "      <td>17111</td>\n",
       "      <td>ES-2013-3496655</td>\n",
       "      <td>2013-05-30</td>\n",
       "      <td>2013-06-04</td>\n",
       "      <td>Standard Class</td>\n",
       "      <td>JB-15400</td>\n",
       "      <td>Jennifer Braxton</td>\n",
       "      <td>Corporate</td>\n",
       "      <td>Viterbo</td>\n",
       "      <td>Lazio</td>\n",
       "      <td>...</td>\n",
       "      <td>9.78</td>\n",
       "      <td>2</td>\n",
       "      <td>0.0</td>\n",
       "      <td>2.34</td>\n",
       "      <td>0.51</td>\n",
       "      <td>Medium</td>\n",
       "      <td>5</td>\n",
       "      <td>2013</td>\n",
       "      <td>5</td>\n",
       "      <td>2</td>\n",
       "    </tr>\n",
       "    <tr>\n",
       "      <th>1105</th>\n",
       "      <td>10354</td>\n",
       "      <td>ES-2013-4569090</td>\n",
       "      <td>2013-08-29</td>\n",
       "      <td>2013-09-03</td>\n",
       "      <td>Standard Class</td>\n",
       "      <td>GA-14725</td>\n",
       "      <td>Guy Armstrong</td>\n",
       "      <td>Consumer</td>\n",
       "      <td>Rome</td>\n",
       "      <td>Lazio</td>\n",
       "      <td>...</td>\n",
       "      <td>30.15</td>\n",
       "      <td>3</td>\n",
       "      <td>0.0</td>\n",
       "      <td>14.76</td>\n",
       "      <td>0.35</td>\n",
       "      <td>Medium</td>\n",
       "      <td>5</td>\n",
       "      <td>2013</td>\n",
       "      <td>8</td>\n",
       "      <td>3</td>\n",
       "    </tr>\n",
       "    <tr>\n",
       "      <th>1106</th>\n",
       "      <td>13611</td>\n",
       "      <td>ES-2014-3846644</td>\n",
       "      <td>2014-09-22</td>\n",
       "      <td>2014-09-25</td>\n",
       "      <td>First Class</td>\n",
       "      <td>MH-18025</td>\n",
       "      <td>Michelle Huthwaite</td>\n",
       "      <td>Consumer</td>\n",
       "      <td>Acireale</td>\n",
       "      <td>Sicily</td>\n",
       "      <td>...</td>\n",
       "      <td>67.86</td>\n",
       "      <td>2</td>\n",
       "      <td>0.0</td>\n",
       "      <td>7.44</td>\n",
       "      <td>0.29</td>\n",
       "      <td>Medium</td>\n",
       "      <td>3</td>\n",
       "      <td>2014</td>\n",
       "      <td>9</td>\n",
       "      <td>3</td>\n",
       "    </tr>\n",
       "    <tr>\n",
       "      <th>1107</th>\n",
       "      <td>13283</td>\n",
       "      <td>ES-2014-2677615</td>\n",
       "      <td>2014-07-04</td>\n",
       "      <td>2014-07-04</td>\n",
       "      <td>Same Day</td>\n",
       "      <td>GP-14740</td>\n",
       "      <td>Guy Phonely</td>\n",
       "      <td>Corporate</td>\n",
       "      <td>Rome</td>\n",
       "      <td>Lazio</td>\n",
       "      <td>...</td>\n",
       "      <td>9.78</td>\n",
       "      <td>2</td>\n",
       "      <td>0.0</td>\n",
       "      <td>2.34</td>\n",
       "      <td>0.20</td>\n",
       "      <td>Medium</td>\n",
       "      <td>0</td>\n",
       "      <td>2014</td>\n",
       "      <td>7</td>\n",
       "      <td>3</td>\n",
       "    </tr>\n",
       "  </tbody>\n",
       "</table>\n",
       "<p>1108 rows × 27 columns</p>\n",
       "</div>"
      ],
      "text/plain": [
       "      Row ID         Order ID Order Date  Ship Date       Ship Mode  \\\n",
       "0      12069  ES-2014-1651774 2014-09-08 2014-09-14  Standard Class   \n",
       "1      17765  IT-2013-1350483 2013-09-05 2013-09-07    Second Class   \n",
       "2      15132  ES-2014-5345830 2014-01-14 2014-01-16     First Class   \n",
       "3      12983  ES-2012-5967582 2012-05-28 2012-05-31     First Class   \n",
       "4      14311  ES-2013-1525878 2013-11-04 2013-11-06    Second Class   \n",
       "...      ...              ...        ...        ...             ...   \n",
       "1103   16913  ES-2013-4686025 2013-06-19 2013-06-21     First Class   \n",
       "1104   17111  ES-2013-3496655 2013-05-30 2013-06-04  Standard Class   \n",
       "1105   10354  ES-2013-4569090 2013-08-29 2013-09-03  Standard Class   \n",
       "1106   13611  ES-2014-3846644 2014-09-22 2014-09-25     First Class   \n",
       "1107   13283  ES-2014-2677615 2014-07-04 2014-07-04        Same Day   \n",
       "\n",
       "     Customer ID        Customer Name    Segment      City     State  ...  \\\n",
       "0       PJ-18835        Patrick Jones  Corporate     Prato   Tuscany  ...   \n",
       "1       SB-20290         Sean Braxton  Corporate   Treviso    Veneto  ...   \n",
       "2       MG-17695        Maureen Gnade   Consumer     Turin  Piedmont  ...   \n",
       "3       CK-12205  Chloris Kastensmidt   Consumer  Barletta    Apulia  ...   \n",
       "4       LT-16765           Larry Tron   Consumer      Rome     Lazio  ...   \n",
       "...          ...                  ...        ...       ...       ...  ...   \n",
       "1103    SB-20185          Sarah Brown   Consumer    Tivoli     Lazio  ...   \n",
       "1104    JB-15400     Jennifer Braxton  Corporate   Viterbo     Lazio  ...   \n",
       "1105    GA-14725        Guy Armstrong   Consumer      Rome     Lazio  ...   \n",
       "1106    MH-18025   Michelle Huthwaite   Consumer  Acireale    Sicily  ...   \n",
       "1107    GP-14740          Guy Phonely  Corporate      Rome     Lazio  ...   \n",
       "\n",
       "        Sales Quantity Discount   Profit Shipping Cost Order Priority  \\\n",
       "0     7958.58       14      0.0  3979.08        778.32            Low   \n",
       "1     2671.41        7      0.0   534.24        483.04           High   \n",
       "2     2847.36        8      0.0   711.84        350.68           High   \n",
       "3     1513.56        4      0.0   741.60        325.45       Critical   \n",
       "4     1856.34        6      0.0   909.54        305.25       Critical   \n",
       "...       ...      ...      ...      ...           ...            ...   \n",
       "1103    24.75        3      0.0    10.62          0.53       Critical   \n",
       "1104     9.78        2      0.0     2.34          0.51         Medium   \n",
       "1105    30.15        3      0.0    14.76          0.35         Medium   \n",
       "1106    67.86        2      0.0     7.44          0.29         Medium   \n",
       "1107     9.78        2      0.0     2.34          0.20         Medium   \n",
       "\n",
       "     Processing Time  Order Year  Order Month  Order Quarter  \n",
       "0                  6        2014            9              3  \n",
       "1                  2        2013            9              3  \n",
       "2                  2        2014            1              1  \n",
       "3                  3        2012            5              2  \n",
       "4                  2        2013           11              4  \n",
       "...              ...         ...          ...            ...  \n",
       "1103               2        2013            6              2  \n",
       "1104               5        2013            5              2  \n",
       "1105               5        2013            8              3  \n",
       "1106               3        2014            9              3  \n",
       "1107               0        2014            7              3  \n",
       "\n",
       "[1108 rows x 27 columns]"
      ]
     },
     "execution_count": 27,
     "metadata": {},
     "output_type": "execute_result"
    }
   ],
   "source": [
    "ita_df"
   ]
  },
  {
   "cell_type": "markdown",
   "metadata": {
    "id": "bGl1hhJrmIxI"
   },
   "source": [
    "# 2. Mô tả dữ liệu:\n"
   ]
  },
  {
   "cell_type": "markdown",
   "metadata": {
    "id": "G4BzOpH_oo0t"
   },
   "source": [
    "## 2.1 Tổng quan thị trường"
   ]
  },
  {
   "cell_type": "code",
   "execution_count": 29,
   "metadata": {
    "executionInfo": {
     "elapsed": 5,
     "status": "ok",
     "timestamp": 1746365353667,
     "user": {
      "displayName": "Thao Vy",
      "userId": "05130975999229142157"
     },
     "user_tz": -420
    },
    "id": "5ZaokHN2mIJQ"
   },
   "outputs": [],
   "source": [
    "def tong_quan(df):\n",
    "    \"\"\"Tổng quan thị trường\"\"\"\n",
    "    print(tong_quan.__doc__)\n",
    "\n",
    "    sl_dh = df.groupby('Order ID').size().sum() #tổng số đơn hàng\n",
    "    sl_kh = df['Customer ID'].nunique() #tổng số khách hàng\n",
    "\n",
    "    tong_dt = df['Sales'].sum() #tổng doanh thu\n",
    "    tong_ln = df['Profit'].sum() #tổng lợi nhuận\n",
    "\n",
    "    tgtb_dh = df['Processing Time'].mean() #thời gian xử lý đơn hàng trung bình\n",
    "\n",
    "    fre_ship_mode = df['Ship Mode'].mode()[0] #hình thức vận chuyển (ship mode) xuất hiện nhiều nhất\n",
    "    fre_order_priority = df['Order Priority'].mode()[0] #Order piority xuất hiện nhiều nhất\n",
    "\n",
    "    print(f\"Số lương đơn hàng đã đặt: {sl_dh}\")\n",
    "    print(f\"Số khách hàng: {sl_kh}\")\n",
    "    print(f\"Tổng doanh thu: {tong_dt}\")\n",
    "    print(f\"Tổng lợi nhuận: {tong_ln}\")\n",
    "    print(f\"Thời gian trung bình xử lý đơn hàng: {tgtb_dh}\")\n",
    "    print(f\"Ship mode xuất hiện nhiều nhất: {fre_ship_mode}\")\n",
    "    print(f\"Order priority xuất hiện nhiều nhất: {fre_order_priority}\")\n",
    "    return"
   ]
  },
  {
   "cell_type": "code",
   "execution_count": 31,
   "metadata": {
    "colab": {
     "base_uri": "https://localhost:8080/"
    },
    "executionInfo": {
     "elapsed": 17,
     "status": "ok",
     "timestamp": 1746365356009,
     "user": {
      "displayName": "Thao Vy",
      "userId": "05130975999229142157"
     },
     "user_tz": -420
    },
    "id": "4gruewVpMd6y",
    "outputId": "7dcb4136-eea3-47ab-9fa1-94e15d9d4aa3"
   },
   "outputs": [
    {
     "name": "stdout",
     "output_type": "stream",
     "text": [
      "Tổng quan thị trường\n",
      "Số lương đơn hàng đã đặt: 1108\n",
      "Số khách hàng: 376\n",
      "Tổng doanh thu: 289709.658\n",
      "Tổng lợi nhuận: 19828.757999999994\n",
      "Thời gian trung bình xử lý đơn hàng: 4.007220216606498\n",
      "Ship mode xuất hiện nhiều nhất: Standard Class\n",
      "Order priority xuất hiện nhiều nhất: Medium\n"
     ]
    }
   ],
   "source": [
    "overview = tong_quan(ita_df)"
   ]
  },
  {
   "cell_type": "markdown",
   "metadata": {
    "id": "yUbg1zLeRZtZ"
   },
   "source": [
    "## 2.2 Các phân tích thống kê cơ bản"
   ]
  },
  {
   "cell_type": "markdown",
   "metadata": {
    "id": "pLj2YPZBRmUI"
   },
   "source": [
    "### 2.2.1 Phân tích các chỉ số kinh doanh theo danh mục sản phẩm (Category)"
   ]
  },
  {
   "cell_type": "code",
   "execution_count": 33,
   "metadata": {
    "executionInfo": {
     "elapsed": 5,
     "status": "ok",
     "timestamp": 1746365362734,
     "user": {
      "displayName": "Thao Vy",
      "userId": "05130975999229142157"
     },
     "user_tz": -420
    },
    "id": "2FTjeXjUWRe8"
   },
   "outputs": [],
   "source": [
    "def analyze_business_category_metrics(df):\n",
    "    \"\"\"Phân tích các chỉ số kinh doanh theo danh mục (category)\"\"\"\n",
    "    print(analyze_business_category_metrics.__doc__)\n",
    "\n",
    "    #Tính tổng doanh số, lợi nhuận, số lượng và giảm giá trung bình\n",
    "    category_metrics = df.groupby('Category').agg({'Sales': 'sum',\n",
    "                                                   'Profit': 'sum',\n",
    "                                                   'Quantity': 'sum',\n",
    "                                                   'Discount': 'mean'})\n",
    "    #Tính tỷ lệ lợi nhuận\n",
    "    category_metrics['Profit ratio'] = (category_metrics['Profit'] / category_metrics['Sales']) * 100\n",
    "    return category_metrics"
   ]
  },
  {
   "cell_type": "code",
   "execution_count": 35,
   "metadata": {
    "colab": {
     "base_uri": "https://localhost:8080/"
    },
    "executionInfo": {
     "elapsed": 18,
     "status": "ok",
     "timestamp": 1746365364828,
     "user": {
      "displayName": "Thao Vy",
      "userId": "05130975999229142157"
     },
     "user_tz": -420
    },
    "id": "ke9LLRkuWMtX",
    "outputId": "ee93960c-aba3-44b2-ad83-e2c8091c629d"
   },
   "outputs": [
    {
     "name": "stdout",
     "output_type": "stream",
     "text": [
      "Phân tích các chỉ số kinh doanh theo danh mục (category)\n",
      "                      Sales     Profit  Quantity  Discount  Profit ratio\n",
      "Category                                                                \n",
      "Furniture         72017.604   2187.954       578  0.212258      3.038082\n",
      "Office Supplies  119213.778  17999.898      2804  0.084718     15.098840\n",
      "Technology        98478.276   -359.094       744  0.200966     -0.364643\n"
     ]
    }
   ],
   "source": [
    "category_analysis = analyze_business_category_metrics(ita_df)\n",
    "print(category_analysis)"
   ]
  },
  {
   "cell_type": "code",
   "execution_count": 37,
   "metadata": {},
   "outputs": [],
   "source": [
    "# Phân tích danh mục sub category\n",
    "def analyze_business_sub_category(df):\n",
    "    \"\"\"Phân tích các chỉ số kinh doanh theo danh mục phụ (sub-category)\"\"\"\n",
    "    print(analyze_business_sub_category.__doc__)\n",
    "    #Tính tổng doanh số, lợi nhuận, số lượng và giảm giá trung bình\n",
    "    subcategory_profit = df.groupby([df['Category'],'Sub-Category']).agg({'Sales':'sum',\n",
    "                                                                          'Profit' : 'sum',\n",
    "                                                                          'Quantity' : 'sum',\n",
    "                                                                         'Discount' : 'mean'})\n",
    "    return subcategory_profit"
   ]
  },
  {
   "cell_type": "code",
   "execution_count": 39,
   "metadata": {},
   "outputs": [
    {
     "name": "stdout",
     "output_type": "stream",
     "text": [
      "Phân tích các chỉ số kinh doanh theo danh mục phụ (sub-category)\n",
      "                                  Sales     Profit  Quantity  Discount\n",
      "Category        Sub-Category                                          \n",
      "Furniture       Bookcases     42425.820  11596.560       191       0.0\n",
      "                Chairs         8068.164  -6360.546       157       0.6\n",
      "                Furnishings   11140.710   2763.630       187       0.0\n",
      "                Tables        10382.910  -5811.690        43       0.5\n",
      "Office Supplies Appliances    36520.200  12721.470       108       0.0\n",
      "                Art           19468.620   4600.050       601       0.0\n",
      "                Binders       11310.150   2893.500       529       0.0\n",
      "                Envelopes      5515.770   1395.660       196       0.0\n",
      "                Fasteners      1984.890    578.340       145       0.0\n",
      "                Labels         2131.260    486.510       226       0.0\n",
      "                Paper          6174.300   1512.810       231       0.0\n",
      "                Storage       30261.528  -7478.442       589       0.4\n",
      "                Supplies       5847.060   1290.000       179       0.0\n",
      "Technology      Accessories   19332.180   4228.620       202       0.0\n",
      "                Copiers       40206.300   8985.450       173       0.0\n",
      "                Machines      14027.616  -5428.734       141       0.4\n",
      "                Phones        24912.180  -8144.430       228       0.4\n"
     ]
    }
   ],
   "source": [
    "subcategory_analysis = analyze_business_sub_category(ita_df)\n",
    "print(subcategory_analysis)"
   ]
  },
  {
   "cell_type": "markdown",
   "metadata": {
    "id": "SH8B1TBnjBQ1"
   },
   "source": [
    "### 2.2.2 Phân tích các chỉ số kinh doanh theo phân khúc (segment)\n"
   ]
  },
  {
   "cell_type": "code",
   "execution_count": 41,
   "metadata": {
    "executionInfo": {
     "elapsed": 4,
     "status": "ok",
     "timestamp": 1746365392846,
     "user": {
      "displayName": "Thao Vy",
      "userId": "05130975999229142157"
     },
     "user_tz": -420
    },
    "id": "vY3saox_jNYo"
   },
   "outputs": [],
   "source": [
    "def analyze_business_segment_metrics(df):\n",
    "    \"\"\"Phân tích các chỉ số kinh doanh theo phân khúc khách hàng (segment)\"\"\"\n",
    "    print(analyze_business_segment_metrics.__doc__)\n",
    "\n",
    "    #Tính tổng doanh số, lợi nhuận\n",
    "    segment_metrics = df.groupby('Segment').agg({'Sales': 'sum',\n",
    "                                             'Profit': 'sum'})\n",
    "    #Số lượng khách hàng theo từng phân khúc\n",
    "    segment_metrics['Total customer'] = df.groupby('Segment')['Customer ID'].nunique()\n",
    "    \n",
    "    return segment_metrics"
   ]
  },
  {
   "cell_type": "code",
   "execution_count": 43,
   "metadata": {
    "colab": {
     "base_uri": "https://localhost:8080/"
    },
    "executionInfo": {
     "elapsed": 13,
     "status": "ok",
     "timestamp": 1746365394776,
     "user": {
      "displayName": "Thao Vy",
      "userId": "05130975999229142157"
     },
     "user_tz": -420
    },
    "id": "15eUNC0AkXBs",
    "outputId": "94cbc4b2-3b97-4705-b4db-92cd799573c7"
   },
   "outputs": [
    {
     "name": "stdout",
     "output_type": "stream",
     "text": [
      "Phân tích các chỉ số kinh doanh theo phân khúc khách hàng (segment)\n",
      "                  Sales    Profit  Total customer\n",
      "Segment                                          \n",
      "Consumer     146703.813  9532.053             188\n",
      "Corporate    100022.241  6746.481             124\n",
      "Home Office   42983.604  3550.224              64\n"
     ]
    }
   ],
   "source": [
    "segment_analysis = analyze_business_segment_metrics(ita_df)\n",
    "print(segment_analysis)"
   ]
  },
  {
   "cell_type": "markdown",
   "metadata": {
    "id": "mUbZBO1WnYpd"
   },
   "source": [
    "### 2.2.3 Phân tích các chỉ số kinh doanh theo ship mode"
   ]
  },
  {
   "cell_type": "code",
   "execution_count": 45,
   "metadata": {
    "executionInfo": {
     "elapsed": 7,
     "status": "ok",
     "timestamp": 1746365545545,
     "user": {
      "displayName": "Thao Vy",
      "userId": "05130975999229142157"
     },
     "user_tz": -420
    },
    "id": "Ef8MGYzD110o"
   },
   "outputs": [],
   "source": [
    "def analyze_business_ship_mode_metrics(df):\n",
    "    \"\"\"Phân tích các chỉ số kinh doanh theo hình thức vận chuyển (ship mode)\"\"\"\n",
    "    print(analyze_business_ship_mode_metrics.__doc__)\n",
    "\n",
    "    #Tính tổng doanh số, lợi nhuận, chi phí vận chuyển trb và thời gian xử lý trb cũa từng hình thức vận chuyển\n",
    "    shipmode_metrics = df.groupby('Ship Mode').agg({'Sales': 'sum',\n",
    "                                                    'Profit': 'sum', \n",
    "                                                    'Shipping Cost' : 'mean', \n",
    "                                                    'Processing Time': 'mean'})\n",
    "\n",
    "    #Số lượng đơn hàng đã đặt theo từng hình thức shipmode\n",
    "    shipmode_metrics['Total order'] = df.groupby('Ship Mode')['Order ID'].nunique()\n",
    "    \n",
    "    return shipmode_metrics"
   ]
  },
  {
   "cell_type": "code",
   "execution_count": 47,
   "metadata": {
    "colab": {
     "base_uri": "https://localhost:8080/"
    },
    "executionInfo": {
     "elapsed": 14,
     "status": "ok",
     "timestamp": 1746365547295,
     "user": {
      "displayName": "Thao Vy",
      "userId": "05130975999229142157"
     },
     "user_tz": -420
    },
    "id": "4hPvmheb7O7F",
    "outputId": "8bad9ed2-49f9-4449-8551-31b2ebe6b1b1"
   },
   "outputs": [
    {
     "name": "stdout",
     "output_type": "stream",
     "text": [
      "Phân tích các chỉ số kinh doanh theo hình thức vận chuyển (ship mode)\n",
      "                     Sales     Profit  Shipping Cost  Processing Time  \\\n",
      "Ship Mode                                                               \n",
      "First Class      41779.956   3620.886      36.791167         2.266667   \n",
      "Same Day          8900.568   1897.758      48.325588         0.000000   \n",
      "Second Class     58255.716    149.886      31.968524         2.923810   \n",
      "Standard Class  180773.418  14160.228      21.917544         4.997076   \n",
      "\n",
      "                Total order  \n",
      "Ship Mode                    \n",
      "First Class              95  \n",
      "Same Day                 21  \n",
      "Second Class            109  \n",
      "Standard Class          323  \n"
     ]
    }
   ],
   "source": [
    "shipmode_analysis = analyze_business_ship_mode_metrics(ita_df)\n",
    "print(shipmode_analysis)"
   ]
  },
  {
   "cell_type": "markdown",
   "metadata": {},
   "source": [
    "### 2.2.4 Phân tích các chỉ số kinh doanh theo Order Priority"
   ]
  },
  {
   "cell_type": "code",
   "execution_count": 49,
   "metadata": {},
   "outputs": [],
   "source": [
    "def analyze_business_order_priority_metrics(df):\n",
    "    \"\"\"Phân tích các chỉ số kinh doanh theo phân khúc khách hàng (segment)\"\"\"\n",
    "    print(analyze_business_order_priority_metrics.__doc__)\n",
    "\n",
    "    #Tính tổng doanh số, lợi nhuận\n",
    "    order_priority_metrics = df.groupby('Order Priority').agg({'Sales': 'sum',\n",
    "                                                               'Profit': 'sum',\n",
    "                                                              'Shipping Cost': 'mean',\n",
    "                                                              'Processing Time' : 'mean'})\n",
    "    return order_priority_metrics"
   ]
  },
  {
   "cell_type": "code",
   "execution_count": 51,
   "metadata": {},
   "outputs": [
    {
     "name": "stdout",
     "output_type": "stream",
     "text": [
      "Phân tích các chỉ số kinh doanh theo phân khúc khách hàng (segment)\n",
      "                     Sales    Profit  Shipping Cost  Processing Time\n",
      "Order Priority                                                      \n",
      "Critical         20228.862  1667.622      50.276044         1.824176\n",
      "High             86180.262  6168.282      33.723413         3.098802\n",
      "Low              27015.600  4631.730      38.640685         6.452055\n",
      "Medium          156284.934  7361.124      18.542557         4.537705\n"
     ]
    }
   ],
   "source": [
    "order_priority_analysis = analyze_business_order_priority_metrics(ita_df)\n",
    "print(order_priority_analysis)"
   ]
  },
  {
   "cell_type": "markdown",
   "metadata": {
    "id": "1hzXMtd3tcgI"
   },
   "source": [
    "# 3. Trực quan hoá dữ liệu:"
   ]
  },
  {
   "cell_type": "code",
   "execution_count": 53,
   "metadata": {
    "id": "SGHARXZPtmHw"
   },
   "outputs": [],
   "source": [
    "import matplotlib.pyplot as plt\n",
    "import seaborn as sns"
   ]
  },
  {
   "cell_type": "markdown",
   "metadata": {},
   "source": [
    "## 3.1 Xu hướng theo thời gian của doanh số, lợi nhuận theo tháng"
   ]
  },
  {
   "cell_type": "code",
   "execution_count": 54,
   "metadata": {},
   "outputs": [
    {
     "data": {
      "image/png": "[encoded data removed]",
      "text/plain": [
       "<Figure size 1400x600 with 1 Axes>"
      ]
     },
     "metadata": {},
     "output_type": "display_data"
    }
   ],
   "source": [
    "# xu hướng theo thời gian của thị trường (doanh số, lợi nhuận, theo tháng) \n",
    "sale = ita_df.groupby(ita_df['Order Date'].dt.to_period('M'))['Sales'].sum()\n",
    "profit = ita_df.groupby(ita_df['Order Date'].dt.to_period('M'))['Profit'].sum()\n",
    "# Chuyển đổi chỉ số thành dạng timestamp để vẽ biểu đồ\n",
    "x = sale.index.to_timestamp()\n",
    "\n",
    "plt.figure(figsize=(14, 6))  \n",
    "plt.plot(x, sale, label='Doanh thu', color = 'blue', marker='o', markersize=3, linewidth= 1) \n",
    "plt.plot(x, profit, label='Lợi nhuận', color = 'green') \n",
    "plt.title('Doanh thu và Lợi nhuận')\n",
    "plt.xlabel('Thời gian') \n",
    "plt.ylabel('Giá trị')\n",
    "plt.legend()\n",
    "plt.show()"
   ]
  },
  {
   "cell_type": "markdown",
   "metadata": {},
   "source": [
    "## 3.2 Phân tích doanh thu các danh mục "
   ]
  },
  {
   "cell_type": "markdown",
   "metadata": {},
   "source": [
    "### Doanh thu các danh mục qua các năm "
   ]
  },
  {
   "cell_type": "code",
   "execution_count": 57,
   "metadata": {},
   "outputs": [
    {
     "data": {
      "image/png": "[encoded data removed]",
      "text/plain": [
       "<Figure size 1000x600 with 1 Axes>"
      ]
     },
     "metadata": {},
     "output_type": "display_data"
    }
   ],
   "source": [
    "# Sale của category theo năm\n",
    "category_by_year = ita_df.groupby([ita_df['Order Year'],'Category'])['Sales'].sum()\n",
    "sale_by_year = pd.DataFrame(category_by_year) # đưa về dataframe\n",
    "df_reset = sale_by_year.reset_index(level='Category') # reset lại index\n",
    "# pivot bảng sắp xếp, vẽ biểu đồ \n",
    "df_pivot = df_reset.pivot(columns='Category', values='Sales') \n",
    "total_sales_per_category = df_pivot.sum().sort_values()\n",
    "df_pivot = df_pivot[total_sales_per_category.index]\n",
    "# Điều chỉnh kích thước figure trước khi vẽ\n",
    "plt.figure(figsize=(10, 6))\n",
    "df_pivot.plot(kind='bar', stacked=False, ax=plt.gca())   \n",
    "plt.title('Doanh thu của từng danh mục qua các năm')\n",
    "plt.xlabel('Năm')\n",
    "plt.ylabel('Doanh thu')\n",
    "plt.xticks(rotation=0)\n",
    "plt.legend(title='Danh mục') \n",
    "plt.show()"
   ]
  },
  {
   "cell_type": "markdown",
   "metadata": {},
   "source": [
    "### Top 10 doanh thu của các danh mục phụ (sub_category)"
   ]
  },
  {
   "cell_type": "code",
   "execution_count": 57,
   "metadata": {},
   "outputs": [
    {
     "data": {
      "image/png": "[encoded data removed]",
      "text/plain": [
       "<Figure size 1000x600 with 1 Axes>"
      ]
     },
     "metadata": {},
     "output_type": "display_data"
    }
   ],
   "source": [
    "#Top 10 doanh thu của các danh mục phụ (sub_category)\n",
    "sale_sub_category = ita_df.groupby([ita_df['Category'],'Sub-Category'])['Sales'].sum()\n",
    "sale_sub_category = pd.DataFrame(sale_sub_category) # đưa về dataframe\n",
    "sub_category = sale_sub_category.reset_index()\n",
    "sub_category = sub_category.sort_values(by='Sales', ascending=False) #sắp xếp dữ liệu\n",
    "sub_category=sub_category.reset_index(drop=True)\n",
    "sub = sub_category.head(10) # lấy top 10 danh thu cao nhất\n",
    "\n",
    "# Xác định màu sắc theo mỗi Category\n",
    "mau = {'Furniture': 'tab:blue', 'Technology': 'tab:orange', 'Office Supplies': 'tab:green'}\n",
    "# Tạo list màu sắc cho từng sub-category dựa trên Category của nó\n",
    "colors = [mau[i] for i in sub['Category']]\n",
    "# Vẽ biểu đồ cột\n",
    "plt.figure(figsize=(10, 6))\n",
    "plt.bar(sub['Sub-Category'], sub['Sales'], color=colors)\n",
    "plt.xlabel('Sub-Category')\n",
    "plt.ylabel('Doanh thu')\n",
    "plt.title('Top 10 danh mục phụ có doanh thu cao nhất')\n",
    "plt.xticks(rotation=45)\n",
    "plt.tight_layout()\n",
    "\n",
    "# Tạo legend tùy chỉnh\n",
    "handles = [plt.Rectangle((0, 0), 1, 1, color=color) for color in mau.values()]\n",
    "labels = list(mau.keys())\n",
    "plt.legend(handles, labels, title='Category')\n",
    "plt.show()"
   ]
  },
  {
   "cell_type": "markdown",
   "metadata": {},
   "source": [
    "Ở nước Italy qua các năm thì doanh thu các danh mục đều tăng, trong đó danh mục Office Supplies chiếm doanh thu lớn qua các năm, \n",
    "tiếp đó là Technolygy và Furniture thì có doanh thu chiếm ít hơn so với 2 danh mục còn."
   ]
  },
  {
   "cell_type": "markdown",
   "metadata": {},
   "source": [
    "## 3.3 Top 5 các state có doanh thu cao nhất, so sánh các chỉ số giữa các State"
   ]
  },
  {
   "cell_type": "markdown",
   "metadata": {},
   "source": [
    "### So sánh top 5 các state có doanh thu cao nhất"
   ]
  },
  {
   "cell_type": "code",
   "execution_count": 59,
   "metadata": {},
   "outputs": [
    {
     "data": {
      "image/png": "[encoded data removed]",
      "text/plain": [
       "<Figure size 1000x600 with 1 Axes>"
      ]
     },
     "metadata": {},
     "output_type": "display_data"
    }
   ],
   "source": [
    "#So sánh top 5 các state có doanh thu cao nhất\n",
    "sales_by_state = ita_df.groupby('State').agg({'Sales': 'sum','Profit': 'sum','Shipping Cost': 'mean', 'Processing Time': 'mean'})\n",
    "#Sắp xếp và lấy 5 doanh thu cao nhất\n",
    "sales_sort = sales_by_state.sort_values(by='Sales', ascending=False)\n",
    "top_5_sales = sales_sort['Sales'].head(5)\n",
    "#Tìm lợi nhuận tương ứng với 5 giá trị doanh thu \n",
    "top_5_profit = sales_sort.loc[top_5_sales.index, 'Profit']\n",
    "#Thiết lập vị trí các cột trên trục x\n",
    "x = np.arange(len(top_5_sales))\n",
    "width = 0.35  # Độ rộng của mỗi cột\n",
    "#Tạo biểu đồ\n",
    "fig, ax = plt.subplots(figsize=(10, 6))\n",
    "rects1 = ax.bar(x - width/2,top_5_sales, width, label='Doanh thu', color='skyblue')\n",
    "rects2 = ax.bar(x + width/2, top_5_profit, width, label='Lợi nhuận', color='orange')\n",
    "\n",
    "#Thêm nhãn và tiêu đề\n",
    "ax.set_ylabel('Giá trị')\n",
    "ax.set_xlabel('Thành phố')\n",
    "ax.set_title('So sánh doanh thu của 5 State cao nhất')\n",
    "ax.set_xticks(x)\n",
    "ax.set_xticklabels(top_5_sales.index)\n",
    "ax.legend()\n",
    "ax.legend()\n",
    "plt.minorticks_on()\n",
    "plt.grid(axis='y', color='lightgray', linestyle='-', linewidth=0.5)\n",
    "plt.tight_layout()\n",
    "plt.show()"
   ]
  },
  {
   "cell_type": "markdown",
   "metadata": {},
   "source": [
    "Doanh thu của state Lazio cao nhất, tiếp đó là state Lombardy tuy nhiên lợi nhuận của bang này thấp nhất so với 4 bang còn lại. Lợi nhuận của bang \n",
    "Tuscany cao nhất và doanh thu của bang này cũng đứng ở vị trí thứ 3."
   ]
  },
  {
   "cell_type": "markdown",
   "metadata": {},
   "source": [
    "### So sánh chi phí vận chuyển và thời gian xử lý đơn hàng của top 5 state"
   ]
  },
  {
   "cell_type": "code",
   "execution_count": 61,
   "metadata": {},
   "outputs": [
    {
     "data": {
      "image/png": "[encoded data removed]",
      "text/plain": [
       "<Figure size 1000x600 with 1 Axes>"
      ]
     },
     "metadata": {},
     "output_type": "display_data"
    }
   ],
   "source": [
    "# Tìm ship cost, processing time tương ứng của 5 state phân tích ở trên\n",
    "ship_by_state = sales_sort.loc[top_5_sales.index, 'Shipping Cost']\n",
    "process_by_state = sales_sort.loc[top_5_sales.index, 'Processing Time']\n",
    "# Thiết lập vị trí các cột trên trục x\n",
    "x = np.arange(len(top_5_sales))\n",
    "width = 0.35  # Độ rộng của mỗi cột\n",
    "# Tạo biểu đồ\n",
    "fig, ax = plt.subplots(figsize=(10, 6))\n",
    "rects1 = ax.bar(x - width/2,ship_by_state, width, label='Shipping Cost', color='skyblue')\n",
    "rects2 = ax.bar(x + width/2, process_by_state, width, label='Processing Time', color='orange')\n",
    "\n",
    "# Thêm nhãn và tiêu đề\n",
    "ax.set_ylabel('Giá trị')\n",
    "ax.set_xlabel('Thành phố')\n",
    "ax.set_title('Shipping Cost và Processing Time của 5 State có doanh thu cao nhất')\n",
    "ax.set_xticks(x)\n",
    "ax.set_xticklabels(top_5_sales.index)\n",
    "ax.legend()\n",
    "plt.minorticks_on()\n",
    "plt.grid(axis='y', color='lightgray', linestyle='-', linewidth=0.5)\n",
    "plt.tight_layout()\n",
    "plt.show()"
   ]
  },
  {
   "cell_type": "markdown",
   "metadata": {},
   "source": [
    "- Thời gian xử lý đơn hàng trung bình các bang đều dưới 5 ngày (processing time), trong đó bang Lazio và bang Emilia-Romagna có thời gian xử lý đơn hàng trung bình thấp hơn so với các bang còn lại. \n",
    "- Chi phí vận chuyển của bang Tuscany cao nhất trong các bang, bên cạnh đó bang này có doanh thu đạt top 3 và lợi nhuận cao nhất trong các bang (kết quả biểu đồ đã phân tích) có thể thấy bang Tuscany có tiềm năng phát triển doanh số bán hàng tuy nhiên chi phí khá cao cần tối ưu hóa chi phí vận chuyển lựa chọn nhà cung cấp dịch vụ vận chuyển cho bang, ngoài ra thời gian xử lý đơn hàng trb của bang cũng cao hơn so với các bang khác, do đó nên xem xét lại chi phí và thời gian xử lý đơn hàng ở bang cũng như cân nhắc các khía cạnh khác về số khách hàng hoặc số lượng mua hàng của bang này để đánh giá phù hợp nếu lựa chọn phát triển thị trường ở đây trong tương lai.\n",
    "- Ngoài ra bang Lazio có chi phí vận chuyển trb cao vị trí thứ 2 tuy nhiên thời gian xử lý đơn hàng trb lại thấp hơn so với các bang còn lại và doanh thu của Lazion cũng rất tích cực nên có thể xem xét tối ưu hóa chi phí vận chuyển và tiếp tục duy trì thời gian xử lý đơn hàng nhanh chóng để tạo trải nghiệm tốt cho khách hàng"
   ]
  },
  {
   "cell_type": "markdown",
   "metadata": {},
   "source": [
    "## 3.4 Phân tích doanh thu và số lượng khách hàng theo phân khúc "
   ]
  },
  {
   "cell_type": "code",
   "execution_count": 63,
   "metadata": {},
   "outputs": [
    {
     "data": {
      "image/png": "[encoded data removed]",
      "text/plain": [
       "<Figure size 500x500 with 1 Axes>"
      ]
     },
     "metadata": {},
     "output_type": "display_data"
    }
   ],
   "source": [
    "# Doanh thu theo phân khúc khách hàng\n",
    "plt.figure(figsize=(5,5))\n",
    "plt.pie(segment_analysis['Sales'], labels=segment_analysis.index, colors=colors, autopct='%1.1f%%', startangle=90)\n",
    "plt.axis('equal')\n",
    "plt.title('Doanh thu theo phân khúc khách hàng')\n",
    "plt.show()"
   ]
  },
  {
   "cell_type": "code",
   "execution_count": 67,
   "metadata": {},
   "outputs": [
    {
     "data": {
      "image/png": "[encoded data removed]",
      "text/plain": [
       "<Figure size 500x500 with 1 Axes>"
      ]
     },
     "metadata": {},
     "output_type": "display_data"
    }
   ],
   "source": [
    "# Số lượng khách hàng theo phân khúc\n",
    "plt.figure(figsize=(5,5))\n",
    "plt.pie(segment_analysis['Total customer'], labels=segment_analysis.index, colors=colors, autopct='%1.1f%%', startangle=90)\n",
    "plt.axis('equal')\n",
    "plt.title('Số lượng khách hàng theo phân khúc')\n",
    "plt.show()"
   ]
  },
  {
   "cell_type": "markdown",
   "metadata": {},
   "source": [
    "# 4 Phân tích và đưa ra một số đề xuất cụ thể"
   ]
  },
  {
   "cell_type": "code",
   "execution_count": 98,
   "metadata": {},
   "outputs": [
    {
     "name": "stdout",
     "output_type": "stream",
     "text": [
      "                      Sales     Profit  Quantity  Discount  Profit ratio\n",
      "Category                                                                \n",
      "Furniture         72017.604   2187.954       578  0.212258      3.038082\n",
      "Office Supplies  119213.778  17999.898      2804  0.084718     15.098840\n",
      "Technology        98478.276   -359.094       744  0.200966     -0.364643\n"
     ]
    }
   ],
   "source": [
    "# Nhận xét về category\n",
    "print(category_analysis)"
   ]
  },
  {
   "cell_type": "markdown",
   "metadata": {},
   "source": [
    "- Danh mục Office supplies có doanh thu và lợi nhuận cao nhất đồng thời có discount ít hơn các danh mục khác, đối với danh mục Technology mặc dù doanh thu và số lượng bán ra cao hơn so với Furniture nhưng lợi nhuận âm và tỷ lệ discount cũng gần với danh mục Furniture"
   ]
  },
  {
   "cell_type": "code",
   "execution_count": 108,
   "metadata": {},
   "outputs": [
    {
     "name": "stdout",
     "output_type": "stream",
     "text": [
      "                                  Sales     Profit  Quantity  Discount\n",
      "Category        Sub-Category                                          \n",
      "Furniture       Bookcases     42425.820  11596.560       191       0.0\n",
      "                Chairs         8068.164  -6360.546       157       0.6\n",
      "                Furnishings   11140.710   2763.630       187       0.0\n",
      "                Tables        10382.910  -5811.690        43       0.5\n",
      "Office Supplies Appliances    36520.200  12721.470       108       0.0\n",
      "                Art           19468.620   4600.050       601       0.0\n",
      "                Binders       11310.150   2893.500       529       0.0\n",
      "                Envelopes      5515.770   1395.660       196       0.0\n",
      "                Fasteners      1984.890    578.340       145       0.0\n",
      "                Labels         2131.260    486.510       226       0.0\n",
      "                Paper          6174.300   1512.810       231       0.0\n",
      "                Storage       30261.528  -7478.442       589       0.4\n",
      "                Supplies       5847.060   1290.000       179       0.0\n",
      "Technology      Accessories   19332.180   4228.620       202       0.0\n",
      "                Copiers       40206.300   8985.450       173       0.0\n",
      "                Machines      14027.616  -5428.734       141       0.4\n",
      "                Phones        24912.180  -8144.430       228       0.4\n"
     ]
    }
   ],
   "source": [
    "# Nhận xét về subcategory\n",
    "print(subcategory_analysis)"
   ]
  },
  {
   "cell_type": "markdown",
   "metadata": {},
   "source": [
    "- Danh mục Furniture: Các sản phẩm của danh mục sub-category có bookcase chiếm ưu thế với danh thu, lợi nhuận và số lượng sản phẩm bán ra cao nhất. Đối với danh mục phụ Furnishings cũng mang lại doanh thu và số lượng bán khá cao tuy nhiên lợi nhuận cũng ở mức ổn, còn danh mục Tables và Chair mặc dù có mang lại doanh thu tuy nhiên lợi nhuận của 2 danh mục này lại âm đặc biệt cả 2 danh mục này có tỷ lệ discount trung bình từ 0.5 trở lên.\n",
    "- Danh mục Offices Supplies: Các danh mục mang lại doanh thu và lợi nhuận cao như là Appliances, Art, đặc biệt danh mục Art có số lượng bán cao nhất. Các danh mục còn lại thì doanh thu và lợi nhuận tương đối ổn, tuy nhiên đối với danh mục Storage mặc dù doanh thu và số lượng bán khá cao nhưng lợi nhuận lại âm và danh mục này cũng có tỷ lệ discount trung bình là 0.4\n",
    "- Danh mục Technology: Tương tự các danh mục khác thì các danh mục như Accessories, Copiers có doanh thu và lợi nhuận khá cao còn danh mục Machines và Phones doanh thu cao nhưng lợi nhuận âm và cũng có tỷ lệ discount trung bình là 0.4\n",
    "- => Nhìn chung các danh mục có tỷ lệ discount >= 0.4 thì có lợi nhuận âm mặc dù doanh dương, do đó cần xem xét lại tỷ lệ giảm giá của các sản phẩm này cũng như tìm hiểu xem các nguyên nhân khác ảnh hưởng đến việc lợi nhuận âm"
   ]
  },
  {
   "cell_type": "code",
   "execution_count": 104,
   "metadata": {},
   "outputs": [
    {
     "data": {
      "text/html": [
       "<div>\n",
       "<style scoped>\n",
       "    .dataframe tbody tr th:only-of-type {\n",
       "        vertical-align: middle;\n",
       "    }\n",
       "\n",
       "    .dataframe tbody tr th {\n",
       "        vertical-align: top;\n",
       "    }\n",
       "\n",
       "    .dataframe thead th {\n",
       "        text-align: right;\n",
       "    }\n",
       "</style>\n",
       "<table border=\"1\" class=\"dataframe\">\n",
       "  <thead>\n",
       "    <tr style=\"text-align: right;\">\n",
       "      <th></th>\n",
       "      <th>Sales</th>\n",
       "      <th>Profit</th>\n",
       "      <th>Total customer</th>\n",
       "    </tr>\n",
       "    <tr>\n",
       "      <th>Segment</th>\n",
       "      <th></th>\n",
       "      <th></th>\n",
       "      <th></th>\n",
       "    </tr>\n",
       "  </thead>\n",
       "  <tbody>\n",
       "    <tr>\n",
       "      <th>Consumer</th>\n",
       "      <td>146703.813</td>\n",
       "      <td>9532.053</td>\n",
       "      <td>188</td>\n",
       "    </tr>\n",
       "    <tr>\n",
       "      <th>Corporate</th>\n",
       "      <td>100022.241</td>\n",
       "      <td>6746.481</td>\n",
       "      <td>124</td>\n",
       "    </tr>\n",
       "    <tr>\n",
       "      <th>Home Office</th>\n",
       "      <td>42983.604</td>\n",
       "      <td>3550.224</td>\n",
       "      <td>64</td>\n",
       "    </tr>\n",
       "  </tbody>\n",
       "</table>\n",
       "</div>"
      ],
      "text/plain": [
       "                  Sales    Profit  Total customer\n",
       "Segment                                          \n",
       "Consumer     146703.813  9532.053             188\n",
       "Corporate    100022.241  6746.481             124\n",
       "Home Office   42983.604  3550.224              64"
      ]
     },
     "execution_count": 104,
     "metadata": {},
     "output_type": "execute_result"
    }
   ],
   "source": [
    "# Nhận xét về segment\n",
    "segment_analysis"
   ]
  },
  {
   "cell_type": "markdown",
   "metadata": {},
   "source": [
    "- Phân khúc khách hàng consumer mang lại lợi nhuận và doanh thu là chủ yếu, đây cũng là phân khúc chiếm nhiều khách hàng nhất, tiếp đó là phân khúc corporate và home office => doanh thu chủ yếu đến từ người tiêu dùng và doanh nghiệp"
   ]
  },
  {
   "cell_type": "code",
   "execution_count": 100,
   "metadata": {},
   "outputs": [
    {
     "data": {
      "text/html": [
       "<div>\n",
       "<style scoped>\n",
       "    .dataframe tbody tr th:only-of-type {\n",
       "        vertical-align: middle;\n",
       "    }\n",
       "\n",
       "    .dataframe tbody tr th {\n",
       "        vertical-align: top;\n",
       "    }\n",
       "\n",
       "    .dataframe thead th {\n",
       "        text-align: right;\n",
       "    }\n",
       "</style>\n",
       "<table border=\"1\" class=\"dataframe\">\n",
       "  <thead>\n",
       "    <tr style=\"text-align: right;\">\n",
       "      <th></th>\n",
       "      <th>Sales</th>\n",
       "      <th>Profit</th>\n",
       "      <th>Shipping Cost</th>\n",
       "      <th>Processing Time</th>\n",
       "      <th>Total order</th>\n",
       "    </tr>\n",
       "    <tr>\n",
       "      <th>Ship Mode</th>\n",
       "      <th></th>\n",
       "      <th></th>\n",
       "      <th></th>\n",
       "      <th></th>\n",
       "      <th></th>\n",
       "    </tr>\n",
       "  </thead>\n",
       "  <tbody>\n",
       "    <tr>\n",
       "      <th>First Class</th>\n",
       "      <td>41779.956</td>\n",
       "      <td>3620.886</td>\n",
       "      <td>36.791167</td>\n",
       "      <td>2.266667</td>\n",
       "      <td>95</td>\n",
       "    </tr>\n",
       "    <tr>\n",
       "      <th>Same Day</th>\n",
       "      <td>8900.568</td>\n",
       "      <td>1897.758</td>\n",
       "      <td>48.325588</td>\n",
       "      <td>0.000000</td>\n",
       "      <td>21</td>\n",
       "    </tr>\n",
       "    <tr>\n",
       "      <th>Second Class</th>\n",
       "      <td>58255.716</td>\n",
       "      <td>149.886</td>\n",
       "      <td>31.968524</td>\n",
       "      <td>2.923810</td>\n",
       "      <td>109</td>\n",
       "    </tr>\n",
       "    <tr>\n",
       "      <th>Standard Class</th>\n",
       "      <td>180773.418</td>\n",
       "      <td>14160.228</td>\n",
       "      <td>21.917544</td>\n",
       "      <td>4.997076</td>\n",
       "      <td>323</td>\n",
       "    </tr>\n",
       "  </tbody>\n",
       "</table>\n",
       "</div>"
      ],
      "text/plain": [
       "                     Sales     Profit  Shipping Cost  Processing Time  \\\n",
       "Ship Mode                                                               \n",
       "First Class      41779.956   3620.886      36.791167         2.266667   \n",
       "Same Day          8900.568   1897.758      48.325588         0.000000   \n",
       "Second Class     58255.716    149.886      31.968524         2.923810   \n",
       "Standard Class  180773.418  14160.228      21.917544         4.997076   \n",
       "\n",
       "                Total order  \n",
       "Ship Mode                    \n",
       "First Class              95  \n",
       "Same Day                 21  \n",
       "Second Class            109  \n",
       "Standard Class          323  "
      ]
     },
     "execution_count": 100,
     "metadata": {},
     "output_type": "execute_result"
    }
   ],
   "source": [
    "# Nhận xét về shipmode\n",
    "shipmode_analysis"
   ]
  },
  {
   "cell_type": "markdown",
   "metadata": {},
   "source": [
    "- Có 4 hình thức vận chuyển trong đó chủ yếu là standard class được sử dụng nhiều nhất, đây là hình thức vận chuyển cơ bản được khách hàng sử dụng nhiều vì chi phí vận chuyển trung bình không quá cao tuy nhiên thời gian xử lý trung bình thì lâu hơn so với các hình thức còn lại. Đối với hình thức vận chuyển same day thì thời gian xử lý trong ngày và chi phí vận chuyển khá cao nên ít được sử dụng hơn. Đối với 2 hình thức vận chuyển còn lại thì sencond class được xử dụng nhiều hơn first class."
   ]
  },
  {
   "cell_type": "code",
   "execution_count": 83,
   "metadata": {},
   "outputs": [
    {
     "data": {
      "text/html": [
       "<div>\n",
       "<style scoped>\n",
       "    .dataframe tbody tr th:only-of-type {\n",
       "        vertical-align: middle;\n",
       "    }\n",
       "\n",
       "    .dataframe tbody tr th {\n",
       "        vertical-align: top;\n",
       "    }\n",
       "\n",
       "    .dataframe thead th {\n",
       "        text-align: right;\n",
       "    }\n",
       "</style>\n",
       "<table border=\"1\" class=\"dataframe\">\n",
       "  <thead>\n",
       "    <tr style=\"text-align: right;\">\n",
       "      <th></th>\n",
       "      <th>Sales</th>\n",
       "      <th>Profit</th>\n",
       "      <th>Shipping Cost</th>\n",
       "      <th>Processing Time</th>\n",
       "    </tr>\n",
       "    <tr>\n",
       "      <th>Order Priority</th>\n",
       "      <th></th>\n",
       "      <th></th>\n",
       "      <th></th>\n",
       "      <th></th>\n",
       "    </tr>\n",
       "  </thead>\n",
       "  <tbody>\n",
       "    <tr>\n",
       "      <th>Critical</th>\n",
       "      <td>20228.862</td>\n",
       "      <td>1667.622</td>\n",
       "      <td>50.276044</td>\n",
       "      <td>1.824176</td>\n",
       "    </tr>\n",
       "    <tr>\n",
       "      <th>High</th>\n",
       "      <td>86180.262</td>\n",
       "      <td>6168.282</td>\n",
       "      <td>33.723413</td>\n",
       "      <td>3.098802</td>\n",
       "    </tr>\n",
       "    <tr>\n",
       "      <th>Low</th>\n",
       "      <td>27015.600</td>\n",
       "      <td>4631.730</td>\n",
       "      <td>38.640685</td>\n",
       "      <td>6.452055</td>\n",
       "    </tr>\n",
       "    <tr>\n",
       "      <th>Medium</th>\n",
       "      <td>156284.934</td>\n",
       "      <td>7361.124</td>\n",
       "      <td>18.542557</td>\n",
       "      <td>4.537705</td>\n",
       "    </tr>\n",
       "  </tbody>\n",
       "</table>\n",
       "</div>"
      ],
      "text/plain": [
       "                     Sales    Profit  Shipping Cost  Processing Time\n",
       "Order Priority                                                      \n",
       "Critical         20228.862  1667.622      50.276044         1.824176\n",
       "High             86180.262  6168.282      33.723413         3.098802\n",
       "Low              27015.600  4631.730      38.640685         6.452055\n",
       "Medium          156284.934  7361.124      18.542557         4.537705"
      ]
     },
     "execution_count": 83,
     "metadata": {},
     "output_type": "execute_result"
    }
   ],
   "source": [
    "# Nhận xét về shipmode\n",
    "order_priority_analysis"
   ]
  },
  {
   "cell_type": "markdown",
   "metadata": {},
   "source": [
    "- Các đơn hàng có mức độ ưu tiên (order priority) mức trung bình (medium) có chi phí vận chuyển thấp và thời gian xử lý đơn hàng trung bình hơn 4 ngày, và phần lớn doanh thu, lợi nhuận của cửa hàng đến từ các đơn hàng có mức độ ưu tiên trung bình. Đối với các đơn hàng có mức độ ưu tiên thấp thì thời gian xử lý đơn hàng trung bình lâu hơn có thể hơn 6 ngày, bênh cạnh đó chi phí vận chuyển cũng cao hơn cả đơn hàng có mức độ ưu tiên medium và high. Đối với đơn hàng có mức độ ưu tiên khẩn cấp quan trọng (critical) thì thời gian xử lý khá nhanh trung bình dưới 2 ngày và chi phí vận chuyển sẽ cao.\n",
    "- => Đơn hàng có mức độ ưu tiên cao thì thời gian xử lý nhanh hơn và chi phí vận chuyển sẽ cao hơn, tuy nhiên với mức độ ưu tiên thấp thì thời gian xử lý khá lâu nhưng chi phí vận chuyển vẫn còn khá cao --> có thể do quá trình lưu kho lâu dẫn đến yêu cầu thêm về các chi phí khác, cần xem xét lại các đơn hàng này"
   ]
  },
  {
   "cell_type": "markdown",
   "metadata": {},
   "source": [
    "**Tổng hợp một số đề xuất chiến lược:**\n",
    "* **Về từng bang:**\n",
    "  * Tiếp tục duy trì tập trung vào các bang có doanh số, lợi nhuận và khách hàng lớn.\n",
    "  * Xem xét đánh giá lại chi phí vận chuyển và thời gian xử lý đơn hàng ở các bang sao cho phù hợp để tạo trải nghiệm tốt cho khách hàng nhưng vẫn đảm bảo mang lại lợi nhuận tốt.\n",
    "* **Sản phẩm:**\n",
    "  * Cần đánh giá lại các sản phẩm có discount lớn nhưng lợi nhuận âm.\n",
    "  * Có thể chỉ giảm giá ưu đãi sản phẩm cần thiết cho các khách hàng thân thiết hoặc khách hàng đạt mức chi tiêu phù hợp.\n",
    "* **Vận chuyển**:\n",
    "  * Tăng cường hợp tác với các công ty giao hàng để đảm bảo linh hoạt và tối ưu chi phí.\n",
    "  * Tăng cường xử lý đơn hàng nhanh và chọn gói vận chuyển phù hợp đối với các khách hàng có đơn hàng lớn.\n",
    "  * Có thể triển khai phân tích dữ liệu khách hàng để dự đoán nhu cầu mua sắm và vận chuyển tại từng bang, từ đó tối ưu hóa thời gian xử lý đơn hàng và làm giảm chi phí vận chuyển."
   ]
  }
 ],
 "metadata": {
  "colab": {
   "provenance": [],
   "toc_visible": true
  },
  "kernelspec": {
   "display_name": "Python 3 (ipykernel)",
   "language": "python",
   "name": "python3"
  },
  "language_info": {
   "codemirror_mode": {
    "name": "ipython",
    "version": 3
   },
   "file_extension": ".py",
   "mimetype": "text/x-python",
   "name": "python",
   "nbconvert_exporter": "python",
   "pygments_lexer": "ipython3",
   "version": "3.12.4"
  }
 },
 "nbformat": 4,
 "nbformat_minor": 4
}
